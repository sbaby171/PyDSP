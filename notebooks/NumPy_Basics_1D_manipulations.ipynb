{
 "cells": [
  {
   "cell_type": "markdown",
   "metadata": {},
   "source": [
    "<h1>NumPy: The Basics: 1-D Manipulations</h1>\n",
    "<p>This is part of series of posts on working with <i>NumPy</i>.</p>"
   ]
  },
  {
   "cell_type": "markdown",
   "metadata": {},
   "source": [
    "<h2>Objectives</h2>\n",
    "<p>In this notebook, we will keep our focus on <strong>NumPy and working with 1-D NumPy arrays.</strong></p>\n",
    "<p><b>TODO:</b>For notebooks on <b>2-D arrays</b> follow the link</p>"
   ]
  },
  {
   "cell_type": "markdown",
   "metadata": {},
   "source": [
    "<h2>Background: <font color=\"purple\">DSP</font></h2>\n",
    "<p>The <i>DSP</i> module is, in its truest form, is a wrapper for three standardized packages: \n",
    "<ul>\n",
    "    <li>NumPy: Base N-dimensional array package.</li>\n",
    "    <li>SciPy: Fundamental library for scientific computing.</li>\n",
    "    <li>Matplotlib.pyplot: The state-based interface to <i>matplotlib</i> for comprehensive plotting.</li>\n",
    "</ul> \n",
    "</p>"
   ]
  },
  {
   "cell_type": "markdown",
   "metadata": {},
   "source": [
    "<h2>Background: <font color=\"purple\">NumPy</font></h2>\n",
    "<p>As stated by the SciPy organization, NumPy is a \"<a href=\"https://www.scipy.org/scipylib/faq.html#general-questions-about-numpy\">Python extension module that provides efficient operation on arrays of homogeneous data</a>\". Meaning that NumPy simply provides with efficient package for handling mulitple dimensional array of homogeneous data (data of the same type). </p>\n",
    "\n",
    "<p>This statement can be further reduced to, \"<em>they are providing us a special array object, <strong>the ndarray</strong>, to handle multi-dimensionality data of the same type\"</em>. </p>\n",
    "\n",
    "\n",
    "<p>Because much of my work on writing the code for <em>DSP.py</em> is dependent on these Numpy arrays, it was (and still is) imperitive to understand what they are and how to use them.</p>\n",
    "\n",
    "<p>This notebook wishes to investigate some subtlies I personally came across in writing the foundational code to the <i>DSP.py</i> module. For that reason, I suggest any serious investigator to explorer NumPy's documentation page on a complete introductive guide to <a href=\"https://docs.scipy.org/doc/numpy/user/quickstart.html\">NumPy's special array</a>.</p>\n",
    "<p>In Numpy, <strong>dimensions are called <i>axes</i></strong></p>\n"
   ]
  },
  {
   "cell_type": "code",
   "execution_count": 23,
   "metadata": {},
   "outputs": [
    {
     "name": "stdout",
     "output_type": "stream",
     "text": [
      "Hello world from DSP module.\n"
     ]
    }
   ],
   "source": [
    "import numpy as np\n",
    "import matplotlib as plt\n",
    "import DSP as dsp\n",
    "\n"
   ]
  },
  {
   "cell_type": "code",
   "execution_count": 18,
   "metadata": {},
   "outputs": [],
   "source": [
    "# Note: A case I found interesting was creating an array of unknown elements\n",
    "# ----- and size. All that I knew was that I wanted to allocate and an \n",
    "# ----- ndarray of shape=(N,) and append values one element at a time.\n",
    "# Note: We know must admit that this is an non-ideal case to the expensive\n",
    "# ----- operation surrouding growing arrays. \n",
    "# Note: But typcially engineering setups, you want to build the signal\n",
    "# ----- without predeterminlly the size of the end output. Perhaps the \n",
    "# ----- user wants to define the formula for ouptut-signal size at a later\n",
    "# ----- time. In that case, they would be interested in the case below.\n",
    "# Note: Upon first glance of the the NumPy documentation it seems there\n",
    "# ----- maybe three options: \n",
    "xs = np.arange(0,10,1) # Input signal\n",
    "y = np.empty()\n",
    "for x in xs:\n",
    "    \n",
    "    \n"
   ]
  },
  {
   "cell_type": "markdown",
   "metadata": {},
   "source": [
    "<p>Upon first glance of the NumPy documentaion, there seems to be three options for this task. \n",
    "<ol>\n",
    "    <li><b>numpy.concatenate</b>: Join a sequence of arrays along an existing axis</li>\n",
    "    <li><b>numpy.hstack</b>: Stacks arrays in sequence horizontally.</li>\n",
    "    <li><b>numpy.append</b>: Append values to the end of an array.</li>\n",
    "</ol>\n",
    "</p>"
   ]
  },
  {
   "cell_type": "code",
   "execution_count": 20,
   "metadata": {},
   "outputs": [
    {
     "ename": "TypeError",
     "evalue": "empty() missing required argument 'shape' (pos 1)",
     "output_type": "error",
     "traceback": [
      "\u001b[0;31m---------------------------------------------------------------------------\u001b[0m",
      "\u001b[0;31mTypeError\u001b[0m                                 Traceback (most recent call last)",
      "\u001b[0;32m<ipython-input-20-2f1d847dc0e0>\u001b[0m in \u001b[0;36m<module>\u001b[0;34m()\u001b[0m\n\u001b[1;32m      1\u001b[0m \u001b[0mxs\u001b[0m \u001b[0;34m=\u001b[0m \u001b[0mnp\u001b[0m\u001b[0;34m.\u001b[0m\u001b[0marange\u001b[0m\u001b[0;34m(\u001b[0m\u001b[0;36m0\u001b[0m\u001b[0;34m,\u001b[0m\u001b[0;36m10\u001b[0m\u001b[0;34m,\u001b[0m\u001b[0;36m1\u001b[0m\u001b[0;34m)\u001b[0m \u001b[0;31m# Input signal\u001b[0m\u001b[0;34m\u001b[0m\u001b[0m\n\u001b[0;32m----> 2\u001b[0;31m \u001b[0my\u001b[0m \u001b[0;34m=\u001b[0m \u001b[0mnp\u001b[0m\u001b[0;34m.\u001b[0m\u001b[0mempty\u001b[0m\u001b[0;34m(\u001b[0m\u001b[0;34m)\u001b[0m\u001b[0;34m;\u001b[0m \u001b[0mprintArray\u001b[0m\u001b[0;34m(\u001b[0m\u001b[0my\u001b[0m\u001b[0;34m,\u001b[0m \u001b[0mattrs\u001b[0m\u001b[0;34m=\u001b[0m\u001b[0;32mTrue\u001b[0m\u001b[0;34m)\u001b[0m\u001b[0;34m\u001b[0m\u001b[0m\n\u001b[0m\u001b[1;32m      3\u001b[0m \u001b[0;34m\u001b[0m\u001b[0m\n\u001b[1;32m      4\u001b[0m \u001b[0;31m#for x in xs:\u001b[0m\u001b[0;34m\u001b[0m\u001b[0;34m\u001b[0m\u001b[0m\n\u001b[1;32m      5\u001b[0m \u001b[0;34m\u001b[0m\u001b[0m\n",
      "\u001b[0;31mTypeError\u001b[0m: empty() missing required argument 'shape' (pos 1)"
     ]
    }
   ],
   "source": [
    "xs = np.arange(0,10,1) # Input signal\n",
    "y = np.empty(); printArray(y, attrs=True)\n",
    "\n",
    "#for x in xs:\n",
    "    "
   ]
  },
  {
   "cell_type": "code",
   "execution_count": null,
   "metadata": {},
   "outputs": [],
   "source": []
  }
 ],
 "metadata": {
  "kernelspec": {
   "display_name": "Python 3",
   "language": "python",
   "name": "python3"
  },
  "language_info": {
   "codemirror_mode": {
    "name": "ipython",
    "version": 3
   },
   "file_extension": ".py",
   "mimetype": "text/x-python",
   "name": "python",
   "nbconvert_exporter": "python",
   "pygments_lexer": "ipython3",
   "version": "3.7.0"
  }
 },
 "nbformat": 4,
 "nbformat_minor": 2
}
