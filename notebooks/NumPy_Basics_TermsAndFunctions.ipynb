{
 "cells": [
  {
   "cell_type": "markdown",
   "metadata": {},
   "source": [
    "<h1>NumPy: The Basics: <i>Terminology and functions</i></h1>\n",
    "<p>This is part of series of posts on working with <em>NumPy: The Basics</em>.</p>\n",
    "<p><b>TODO:</b>For a complete list notebooks on <strong>NumPy: The Bacis</strong> follow the link</p>"
   ]
  },
  {
   "cell_type": "markdown",
   "metadata": {},
   "source": [
    "<h2>Objectives</h2>\n",
    "<p>In this notebook, we will keep our focus on <strong>NumPy terminology, basic functions and operations.</strong></p>"
   ]
  },
  {
   "cell_type": "markdown",
   "metadata": {},
   "source": [
    "<h2>Background: <font color=\"purple\">DSP</font></h2>\n",
    "<p>The <em>DSP</em> module is, in its truest form, is a wrapper for three standardized packages: \n",
    "<ul>\n",
    "    <li>NumPy: Base N-dimensional array package.</li>\n",
    "    <li>SciPy: Fundamental library for scientific computing.</li>\n",
    "    <li>Matplotlib.pyplot: The state-based interface to <em>matplotlib</em> for comprehensive plotting.</li>\n",
    "</ul> \n",
    "</p>"
   ]
  },
  {
   "cell_type": "markdown",
   "metadata": {},
   "source": [
    "<h2>Background: <font color=\"purple\">NumPy</font></h2>\n",
    "<p>As stated by the SciPy organization, NumPy is a \"<a href=\"https://www.scipy.org/scipylib/faq.html#general-questions-about-numpy\">Python extension module that provides efficient operation on arrays of homogeneous data</a>\". Meaning that NumPy simply provides with efficient package for handling mulitple dimensional array of homogeneous data (data of the same type). </p>\n",
    "\n",
    "<p>This statement can be further reduced to, \"<em>they are providing us a special array object, <strong>the ndarray</strong>, to handle multi-dimensionality data of the same type\"</em>. </p>\n",
    "\n",
    "<p>Because much of my work on writing the code for <em>DSP.py</em> is dependent on these Numpy arrays, it was (and still is) imperitive to understand what they are and how to use them.</p>\n",
    "\n",
    "<p>This notebook wishes to etch out a digital space for the most basic funcitons provided by- and terminologies used by- the NumPy module. </p>\n",
    "\n",
    "<p>For information directly from the supplier please visit the well documentation source documentation provided by SciPy.org here at this <a href=\"https://docs.scipy.org/doc/numpy/user/quickstart.html\">link</a>.</p>"
   ]
  },
  {
   "cell_type": "markdown",
   "metadata": {},
   "source": [
    "<h2>Terminology</h2>\n",
    "<p>What is the ndarray? </p>\n",
    "<p>In Numpy, <strong>dimensions are called <em>axes</em></strong></p>"
   ]
  },
  {
   "cell_type": "markdown",
   "metadata": {},
   "source": [
    "<h2>Basic functions and operations</h2>\n",
    "<p>The most basic question is typically, \"how do I create an array?\"</p>"
   ]
  },
  {
   "cell_type": "markdown",
   "metadata": {},
   "source": [
    "<h3>Importing needed modules: </h3>\n",
    "<p>Before we begin, lets make sure that we have all necessary modules are out disposal. That is, \n",
    "<ul>\n",
    "<li><strong>numpy</strong>: for obvious reasons</li>\n",
    "<li><strong>matplotlib.pyplot</strong>: provide us some illustrative functionality</li>\n",
    "<li><strong>DSP</strong>: home-grown module for digital signal processing work, but there are some functions existing in there to help up with our investigatiosn and learning.</li>\n",
    "</ul>\n",
    "</p>"
   ]
  },
  {
   "cell_type": "code",
   "execution_count": 8,
   "metadata": {},
   "outputs": [
    {
     "name": "stdout",
     "output_type": "stream",
     "text": [
      "Hello world from DSP module.\n"
     ]
    }
   ],
   "source": [
    "import numpy as np\n",
    "import matplotlib as plt\n",
    "import DSP as dsp \n",
    "dsp.hello_world() # test function to ensure proper import of module."
   ]
  },
  {
   "cell_type": "markdown",
   "metadata": {},
   "source": [
    "<h3>Creating ndarrays</h3>\n",
    "<p>Now there are many ways to create ndarrays. Or better said, Numpy offers many functions where the returned object is an <em>numpy.ndarray</em>.</p>\n",
    "<p>It really depends on your use case, or the context of the problem you are investiagting or solving , that dicates which function you would use to create a ndarray.</p>\n",
    "<p> Here is a list of some of the funcitons we will go over:\n",
    "<ol>\n",
    "<li>numpy.empty</li>\n",
    "    <li>numpy.zeros</li>\n",
    "    <li>numpy.ones</li>\n",
    "    <li>numpy.arange</li>\n",
    "    <li>numpy.linspace</li>\n",
    "</ol>\n",
    "</p>"
   ]
  },
  {
   "cell_type": "code",
   "execution_count": 10,
   "metadata": {},
   "outputs": [
    {
     "name": "stdout",
     "output_type": "stream",
     "text": [
      "Printing the type and attributes of input numpy.ndarray:\n",
      "--------------------------------------------------------\n",
      "  - type(ndarray) = <class 'numpy.ndarray'>\n",
      "  - ndarray.ndim = 1\n",
      "  - ndarray.shape = (9,)\n",
      "  - ndarray.size = 9\n",
      "  - ndarray.dtype = float64\n",
      "  - ndarray.itemsize = 8\n",
      "  - ndarray.data = <memory at 0x120f767c8>\n",
      "ndarray = [0. 0. 0. 0. 0. 0. 0. 0. 0.]\n"
     ]
    }
   ],
   "source": [
    "x = np.array([1,2,3,4])\n",
    "x = np.zeros(shape=(9,)) # Note: same as np.zeros(9)\n",
    "\n",
    "# Function to print ndarray contents and attributes. \n",
    "dsp.printArray(x, attrs=True)"
   ]
  },
  {
   "cell_type": "code",
   "execution_count": null,
   "metadata": {},
   "outputs": [],
   "source": []
  }
 ],
 "metadata": {
  "kernelspec": {
   "display_name": "Python 3",
   "language": "python",
   "name": "python3"
  },
  "language_info": {
   "codemirror_mode": {
    "name": "ipython",
    "version": 3
   },
   "file_extension": ".py",
   "mimetype": "text/x-python",
   "name": "python",
   "nbconvert_exporter": "python",
   "pygments_lexer": "ipython3",
   "version": "3.7.0"
  }
 },
 "nbformat": 4,
 "nbformat_minor": 2
}
